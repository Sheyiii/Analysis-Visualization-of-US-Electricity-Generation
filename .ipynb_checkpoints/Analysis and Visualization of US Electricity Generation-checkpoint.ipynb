{
 "cells": [
  {
   "cell_type": "markdown",
   "id": "866610e5",
   "metadata": {},
   "source": [
    "# Import Library"
   ]
  },
  {
   "cell_type": "code",
   "execution_count": 26,
   "id": "bc012bfa",
   "metadata": {},
   "outputs": [],
   "source": [
    "import numpy as np\n",
    "import csv"
   ]
  },
  {
   "cell_type": "markdown",
   "id": "3e155960",
   "metadata": {},
   "source": [
    "# Importing the Dataset"
   ]
  },
  {
   "cell_type": "code",
   "execution_count": 47,
   "id": "afe1f69a",
   "metadata": {},
   "outputs": [],
   "source": [
    "data = []\n",
    "\n",
    "# read the file\n",
    "with open(\"./raw_data.csv\", \"r\") as csvfile:\n",
    "    file_reader = csv.reader(csvfile)\n",
    "        \n",
    "    for row in file_reader:\n",
    "        data.append(row)\n",
    "        \n",
    "# change data into numpy array\n",
    "data = np.array(data)\n"
   ]
  },
  {
   "cell_type": "code",
   "execution_count": 52,
   "id": "a1375ea6",
   "metadata": {},
   "outputs": [
    {
     "data": {
      "text/plain": [
       "array([['MSN', 'YYYYMM', 'Value', 'Column_Order', 'Description', 'Unit'],\n",
       "       ['CLETPUS', '194913', '135451.32', '1',\n",
       "        'Electricity Net Generation From Coal, All Sectors',\n",
       "        'Million Kilowatthours'],\n",
       "       ['CLETPUS', '195013', '154519.994', '1',\n",
       "        'Electricity Net Generation From Coal, All Sectors',\n",
       "        'Million Kilowatthours'],\n",
       "       ...,\n",
       "       ['ELETPUS', '202209', '350919.559', '13',\n",
       "        'Electricity Net Generation Total (including from sources not shown), All Sectors',\n",
       "        'Million Kilowatthours'],\n",
       "       ['ELETPUS', '202210', '314048.288', '13',\n",
       "        'Electricity Net Generation Total (including from sources not shown), All Sectors',\n",
       "        'Million Kilowatthours'],\n",
       "       ['ELETPUS', '202211', '323198.745', '13',\n",
       "        'Electricity Net Generation Total (including from sources not shown), All Sectors',\n",
       "        'Million Kilowatthours']], dtype='<U80')"
      ]
     },
     "execution_count": 52,
     "metadata": {},
     "output_type": "execute_result"
    }
   ],
   "source": [
    "data"
   ]
  },
  {
   "cell_type": "code",
   "execution_count": 53,
   "id": "3ac621f9",
   "metadata": {},
   "outputs": [
    {
     "data": {
      "text/plain": [
       "(8737, 6)"
      ]
     },
     "execution_count": 53,
     "metadata": {},
     "output_type": "execute_result"
    }
   ],
   "source": [
    "data.shape"
   ]
  },
  {
   "cell_type": "markdown",
   "id": "30085435",
   "metadata": {},
   "source": [
    "# Saving File"
   ]
  },
  {
   "cell_type": "code",
   "execution_count": 54,
   "id": "642de4a7",
   "metadata": {},
   "outputs": [],
   "source": [
    "np.savetxt(\"energy.npy\", data, fmt=\"%s\", delimiter=\",\")\n",
    "np.savetxt(\"energy.csv\", data, fmt=\"%s\", delimiter=\",\")"
   ]
  },
  {
   "cell_type": "markdown",
   "id": "54b0e2b8",
   "metadata": {},
   "source": [
    "# Describe Data"
   ]
  },
  {
   "cell_type": "code",
   "execution_count": 67,
   "id": "d38e9c98",
   "metadata": {},
   "outputs": [
    {
     "name": "stdout",
     "output_type": "stream",
     "text": [
      "Header:\n",
      " ['MSN' 'YYYYMM' 'Value' 'Column_Order' 'Description' 'Unit'] \n",
      "\n",
      " Values\n",
      " [['CLETPUS' '194913' '135451.32' '1'\n",
      "  'Electricity Net Generation From Coal, All Sectors'\n",
      "  'Million Kilowatthours']\n",
      " ['CLETPUS' '195013' '154519.994' '1'\n",
      "  'Electricity Net Generation From Coal, All Sectors'\n",
      "  'Million Kilowatthours']\n",
      " ['CLETPUS' '195113' '185203.657' '1'\n",
      "  'Electricity Net Generation From Coal, All Sectors'\n",
      "  'Million Kilowatthours']\n",
      " ...\n",
      " ['ELETPUS' '202209' '350919.559' '13'\n",
      "  'Electricity Net Generation Total (including from sources not shown), All Sectors'\n",
      "  'Million Kilowatthours']\n",
      " ['ELETPUS' '202210' '314048.288' '13'\n",
      "  'Electricity Net Generation Total (including from sources not shown), All Sectors'\n",
      "  'Million Kilowatthours']\n",
      " ['ELETPUS' '202211' '323198.745' '13'\n",
      "  'Electricity Net Generation Total (including from sources not shown), All Sectors'\n",
      "  'Million Kilowatthours']]\n"
     ]
    }
   ],
   "source": [
    "header = data[0,:]\n",
    "values = data[1:,:]\n",
    "\n",
    "print(\"Header:\\n\",header,\"\\n\\n Values\\n\",values)"
   ]
  },
  {
   "cell_type": "markdown",
   "id": "051349f7",
   "metadata": {},
   "source": [
    "## Sources of Energy in US"
   ]
  },
  {
   "cell_type": "code",
   "execution_count": 56,
   "id": "e47f4441",
   "metadata": {},
   "outputs": [
    {
     "data": {
      "text/plain": [
       "array(['Electricity Net Generation From Coal, All Sectors',\n",
       "       'Electricity Net Generation From Coal, All Sectors',\n",
       "       'Electricity Net Generation From Coal, All Sectors', ...,\n",
       "       'Electricity Net Generation Total (including from sources not shown), All Sectors',\n",
       "       'Electricity Net Generation Total (including from sources not shown), All Sectors',\n",
       "       'Electricity Net Generation Total (including from sources not shown), All Sectors'],\n",
       "      dtype='<U80')"
      ]
     },
     "execution_count": 56,
     "metadata": {},
     "output_type": "execute_result"
    }
   ],
   "source": [
    "(values[:,4])"
   ]
  },
  {
   "cell_type": "code",
   "execution_count": 71,
   "id": "43ac2205",
   "metadata": {},
   "outputs": [
    {
     "data": {
      "text/plain": [
       "array([['CLETPUS', '195013', '154519.994', '1',\n",
       "        'Electricity Net Generation From Coal, All Sectors',\n",
       "        'Million Kilowatthours'],\n",
       "       ['CLETPUS', '195113', '185203.657', '1',\n",
       "        'Electricity Net Generation From Coal, All Sectors',\n",
       "        'Million Kilowatthours'],\n",
       "       ['CLETPUS', '195213', '195436.666', '1',\n",
       "        'Electricity Net Generation From Coal, All Sectors',\n",
       "        'Million Kilowatthours'],\n",
       "       ...,\n",
       "       ['ELETPUS', '202209', '350919.559', '13',\n",
       "        'Electricity Net Generation Total (including from sources not shown), All Sectors',\n",
       "        'Million Kilowatthours'],\n",
       "       ['ELETPUS', '202210', '314048.288', '13',\n",
       "        'Electricity Net Generation Total (including from sources not shown), All Sectors',\n",
       "        'Million Kilowatthours'],\n",
       "       ['ELETPUS', '202211', '323198.745', '13',\n",
       "        'Electricity Net Generation Total (including from sources not shown), All Sectors',\n",
       "        'Million Kilowatthours']], dtype='<U80')"
      ]
     },
     "execution_count": 71,
     "metadata": {},
     "output_type": "execute_result"
    }
   ],
   "source": [
    "(values[1:,:])"
   ]
  },
  {
   "cell_type": "code",
   "execution_count": 72,
   "id": "c6381c7f",
   "metadata": {},
   "outputs": [
    {
     "name": "stdout",
     "output_type": "stream",
     "text": [
      "The Usa generates Electricity from 13 sources\n",
      "['Electricity Net Generation From Coal, All Sectors'\n",
      " 'Electricity Net Generation From Conventional Hydroelectric Power, All Sectors'\n",
      " 'Electricity Net Generation From Geothermal, All Sectors'\n",
      " 'Electricity Net Generation From Hydroelectric Pumped Storage, All Sectors'\n",
      " 'Electricity Net Generation From Natural Gas, All Sectors'\n",
      " 'Electricity Net Generation From Nuclear Electric Power, All Sectors'\n",
      " 'Electricity Net Generation From Other Gases, All Sectors'\n",
      " 'Electricity Net Generation From Petroleum, All Sectors'\n",
      " 'Electricity Net Generation From Solar, All Sectors'\n",
      " 'Electricity Net Generation From Waste, All Sectors'\n",
      " 'Electricity Net Generation From Wind, All Sectors'\n",
      " 'Electricity Net Generation From Wood, All Sectors'\n",
      " 'Electricity Net Generation Total (including from sources not shown), All Sectors']\n"
     ]
    }
   ],
   "source": [
    "num_of_sources = len(np.unique(values[:,4]))\n",
    "\n",
    "print(\"The Usa generates Electricity from {} sources\".format(num_of_sources))\n",
    "print(np.unique(values[:,4]))"
   ]
  },
  {
   "cell_type": "markdown",
   "id": "f5294d65",
   "metadata": {},
   "source": [
    "# Extract the wind energy data"
   ]
  },
  {
   "cell_type": "code",
   "execution_count": 59,
   "id": "2435825c",
   "metadata": {},
   "outputs": [],
   "source": [
    "wind_cond = values[:,4] ==  \"Electricity Net Generation From Wind, All Sectors\"\n"
   ]
  },
  {
   "cell_type": "code",
   "execution_count": 60,
   "id": "b81aadcd",
   "metadata": {},
   "outputs": [],
   "source": [
    "wind_data = values[wind_cond]"
   ]
  },
  {
   "cell_type": "code",
   "execution_count": 61,
   "id": "f04a1e0b",
   "metadata": {},
   "outputs": [
    {
     "data": {
      "text/plain": [
       "(672, 6)"
      ]
     },
     "execution_count": 61,
     "metadata": {},
     "output_type": "execute_result"
    }
   ],
   "source": [
    "wind_data.shape"
   ]
  },
  {
   "cell_type": "code",
   "execution_count": 79,
   "id": "78160c41",
   "metadata": {},
   "outputs": [],
   "source": [
    "Petroleum_cond = values[:,4] == 'Electricity Net Generation From Petroleum, All Sectors'"
   ]
  },
  {
   "cell_type": "code",
   "execution_count": 81,
   "id": "2cb23507",
   "metadata": {},
   "outputs": [],
   "source": [
    "Petroleum_data = values[Petroleum_cond]"
   ]
  },
  {
   "cell_type": "code",
   "execution_count": 82,
   "id": "7c79071a",
   "metadata": {},
   "outputs": [
    {
     "data": {
      "text/plain": [
       "(672, 6)"
      ]
     },
     "execution_count": 82,
     "metadata": {},
     "output_type": "execute_result"
    }
   ],
   "source": [
    "Petroleum_data.shape"
   ]
  },
  {
   "cell_type": "code",
   "execution_count": 85,
   "id": "22424ce6",
   "metadata": {},
   "outputs": [],
   "source": [
    "Coal_cond = values[:,4] == 'Electricity Net Generation From Coal, All Sectors'"
   ]
  },
  {
   "cell_type": "code",
   "execution_count": 86,
   "id": "143ed7a9",
   "metadata": {},
   "outputs": [],
   "source": [
    "Coal_data = values[Coal_cond]"
   ]
  },
  {
   "cell_type": "code",
   "execution_count": 87,
   "id": "d805ac28",
   "metadata": {},
   "outputs": [
    {
     "data": {
      "text/plain": [
       "(672, 6)"
      ]
     },
     "execution_count": 87,
     "metadata": {},
     "output_type": "execute_result"
    }
   ],
   "source": [
    "Coal_data.shape"
   ]
  },
  {
   "cell_type": "code",
   "execution_count": 89,
   "id": "e965da68",
   "metadata": {},
   "outputs": [],
   "source": [
    "Conventional Hydroelectric Power_cond = values[:,4] == 'Electricity Net Generation From Conventional Hydroelectric Power, All Sectors'"
   ]
  },
  {
   "cell_type": "code",
   "execution_count": 93,
   "id": "4b7a51ec",
   "metadata": {},
   "outputs": [],
   "source": [
    "Conventional_Hydroelectric_Power_data = values[Conventional_cond]"
   ]
  },
  {
   "cell_type": "code",
   "execution_count": 94,
   "id": "25752986",
   "metadata": {},
   "outputs": [
    {
     "data": {
      "text/plain": [
       "(672, 6)"
      ]
     },
     "execution_count": 94,
     "metadata": {},
     "output_type": "execute_result"
    }
   ],
   "source": [
    "Conventional_Hydroelectric_Power_data.shape"
   ]
  },
  {
   "cell_type": "code",
   "execution_count": 98,
   "id": "10159cab",
   "metadata": {},
   "outputs": [],
   "source": [
    "Hydroelectric_Pumped_Storage_cond = values[:,4] == 'Electricity Net Generation From Hydroelectric Pumped Storage, All Sectors'"
   ]
  },
  {
   "cell_type": "code",
   "execution_count": 100,
   "id": "90065fa0",
   "metadata": {},
   "outputs": [],
   "source": [
    "Hydroelectric_Pumped_Storage_data = values[Hydroelectric_Pumped_Storage_cond]"
   ]
  },
  {
   "cell_type": "code",
   "execution_count": 101,
   "id": "26056f8d",
   "metadata": {},
   "outputs": [
    {
     "data": {
      "text/plain": [
       "(672, 6)"
      ]
     },
     "execution_count": 101,
     "metadata": {},
     "output_type": "execute_result"
    }
   ],
   "source": [
    "Hydroelectric_Pumped_Storage_data.shape"
   ]
  },
  {
   "cell_type": "code",
   "execution_count": 103,
   "id": "1d77bc56",
   "metadata": {},
   "outputs": [],
   "source": [
    "Geothermal_cond = values[:,4] ==  'Electricity Net Generation From Geothermal, All Sectors'"
   ]
  },
  {
   "cell_type": "code",
   "execution_count": 104,
   "id": "c572c4d0",
   "metadata": {},
   "outputs": [],
   "source": [
    "Geothermal_data = values[Geothermal_cond]"
   ]
  },
  {
   "cell_type": "code",
   "execution_count": 105,
   "id": "0d83ee27",
   "metadata": {},
   "outputs": [
    {
     "data": {
      "text/plain": [
       "(672, 6)"
      ]
     },
     "execution_count": 105,
     "metadata": {},
     "output_type": "execute_result"
    }
   ],
   "source": [
    "Geothermal_data.shape"
   ]
  },
  {
   "cell_type": "code",
   "execution_count": 109,
   "id": "d5975edd",
   "metadata": {},
   "outputs": [],
   "source": [
    "Natural_Gas_cond = values[:,4] == 'Electricity Net Generation From Natural Gas, All Sectors'"
   ]
  },
  {
   "cell_type": "code",
   "execution_count": 110,
   "id": "bfc0f987",
   "metadata": {},
   "outputs": [],
   "source": [
    "Natural_Gas_data = values[Natural_Gas_cond]"
   ]
  },
  {
   "cell_type": "code",
   "execution_count": 111,
   "id": "dc3302fe",
   "metadata": {},
   "outputs": [
    {
     "data": {
      "text/plain": [
       "(672, 6)"
      ]
     },
     "execution_count": 111,
     "metadata": {},
     "output_type": "execute_result"
    }
   ],
   "source": [
    "Natural_Gas_data.shape"
   ]
  },
  {
   "cell_type": "code",
   "execution_count": 115,
   "id": "64fb1c2e",
   "metadata": {},
   "outputs": [],
   "source": [
    "Nuclear_Electric_Power_cond = values[:,4] == 'Electricity Net Generation From Nuclear Electric Power, All Sectors'"
   ]
  },
  {
   "cell_type": "code",
   "execution_count": 116,
   "id": "9c7567df",
   "metadata": {},
   "outputs": [],
   "source": [
    "Nuclear_Electric_Power_data = values[Nuclear_Electric_Power_cond]"
   ]
  },
  {
   "cell_type": "code",
   "execution_count": 117,
   "id": "81fbd76e",
   "metadata": {},
   "outputs": [
    {
     "data": {
      "text/plain": [
       "(672, 6)"
      ]
     },
     "execution_count": 117,
     "metadata": {},
     "output_type": "execute_result"
    }
   ],
   "source": [
    "Nuclear_Electric_Power_data.shape"
   ]
  },
  {
   "cell_type": "code",
   "execution_count": 119,
   "id": "5a1c7ee6",
   "metadata": {},
   "outputs": [],
   "source": [
    "Other_Gases_cond = values[:,4] == 'Electricity Net Generation From Other Gases, All Sectors'"
   ]
  },
  {
   "cell_type": "code",
   "execution_count": 120,
   "id": "acf51f67",
   "metadata": {},
   "outputs": [],
   "source": [
    "Other_Gases_data = values[Other_Gases_cond]"
   ]
  },
  {
   "cell_type": "code",
   "execution_count": 121,
   "id": "7cd6ae49",
   "metadata": {},
   "outputs": [
    {
     "data": {
      "text/plain": [
       "(672, 6)"
      ]
     },
     "execution_count": 121,
     "metadata": {},
     "output_type": "execute_result"
    }
   ],
   "source": [
    "Other_Gases_data.shape"
   ]
  },
  {
   "cell_type": "code",
   "execution_count": 123,
   "id": "4ae9fe82",
   "metadata": {},
   "outputs": [],
   "source": [
    "Solar_cond = values[:,4] == 'Electricity Net Generation From Solar, All Sectors'"
   ]
  },
  {
   "cell_type": "code",
   "execution_count": 124,
   "id": "2f086203",
   "metadata": {},
   "outputs": [],
   "source": [
    "Solar_data = values[Solar_cond]"
   ]
  },
  {
   "cell_type": "code",
   "execution_count": 125,
   "id": "3010fb74",
   "metadata": {},
   "outputs": [
    {
     "data": {
      "text/plain": [
       "(672, 6)"
      ]
     },
     "execution_count": 125,
     "metadata": {},
     "output_type": "execute_result"
    }
   ],
   "source": [
    "Solar_data.shape"
   ]
  },
  {
   "cell_type": "code",
   "execution_count": 136,
   "id": "ee9f8473",
   "metadata": {},
   "outputs": [],
   "source": [
    "Waste_cond = values[:,4] == 'Electricity Net Generation From Waste, All Sectors'"
   ]
  },
  {
   "cell_type": "code",
   "execution_count": 139,
   "id": "e261a0a8",
   "metadata": {},
   "outputs": [],
   "source": [
    "Waste_data = values[Waste_cond]"
   ]
  },
  {
   "cell_type": "code",
   "execution_count": 140,
   "id": "383a4a39",
   "metadata": {},
   "outputs": [
    {
     "data": {
      "text/plain": [
       "(672, 6)"
      ]
     },
     "execution_count": 140,
     "metadata": {},
     "output_type": "execute_result"
    }
   ],
   "source": [
    "Waste_data.shape"
   ]
  },
  {
   "cell_type": "code",
   "execution_count": 141,
   "id": "71e8b9de",
   "metadata": {},
   "outputs": [],
   "source": [
    "Wood_cond = values[:,4] == 'Electricity Net Generation From Wood, All Sectors'"
   ]
  },
  {
   "cell_type": "code",
   "execution_count": 142,
   "id": "70f96657",
   "metadata": {},
   "outputs": [],
   "source": [
    "Wood_data = values[Wood_cond]"
   ]
  },
  {
   "cell_type": "code",
   "execution_count": 143,
   "id": "4669c17f",
   "metadata": {},
   "outputs": [
    {
     "data": {
      "text/plain": [
       "(672, 6)"
      ]
     },
     "execution_count": 143,
     "metadata": {},
     "output_type": "execute_result"
    }
   ],
   "source": [
    "Wood_data.shape"
   ]
  },
  {
   "cell_type": "code",
   "execution_count": 146,
   "id": "dc09897e",
   "metadata": {},
   "outputs": [],
   "source": [
    "Unknown_Sources_cond = values[:,4] == 'Electricity Net Generation Total (including from sources not shown), All Sectors'"
   ]
  },
  {
   "cell_type": "code",
   "execution_count": 147,
   "id": "22030718",
   "metadata": {},
   "outputs": [],
   "source": [
    "Unknown_Sources_data = values[Unknown_Sources_cond]"
   ]
  },
  {
   "cell_type": "code",
   "execution_count": 148,
   "id": "0c175122",
   "metadata": {},
   "outputs": [
    {
     "data": {
      "text/plain": [
       "(672, 6)"
      ]
     },
     "execution_count": 148,
     "metadata": {},
     "output_type": "execute_result"
    }
   ],
   "source": [
    "Unknown_Sources_data.shape"
   ]
  },
  {
   "cell_type": "markdown",
   "id": "14b51e08",
   "metadata": {},
   "source": [
    "# Save into File"
   ]
  },
  {
   "cell_type": "code",
   "execution_count": 28,
   "id": "af2d7c55",
   "metadata": {},
   "outputs": [],
   "source": [
    "np.savetxt(\"wind.csv\", wind_data, fmt=\"%s\", delimiter=\",\")"
   ]
  },
  {
   "cell_type": "code",
   "execution_count": 84,
   "id": "9112d6fb",
   "metadata": {},
   "outputs": [],
   "source": [
    "np.savetxt(\"Petroleum.csv\", Petroleum_data, fmt=\"%s\", delimiter=\",\")"
   ]
  },
  {
   "cell_type": "code",
   "execution_count": 88,
   "id": "bb365e6c",
   "metadata": {},
   "outputs": [],
   "source": [
    "np.savetxt(\"Coal.csv\", Coal_data, fmt=\"%s\", delimiter=\",\")"
   ]
  },
  {
   "cell_type": "code",
   "execution_count": 95,
   "id": "0a3217e0",
   "metadata": {},
   "outputs": [],
   "source": [
    "np.savetxt(\"Conventional_Hydroelectric_Power_data.csv\", Conventional_Hydroelectric_Power_data, fmt=\"%s\", delimiter=\",\")"
   ]
  },
  {
   "cell_type": "code",
   "execution_count": 106,
   "id": "bdd19d34",
   "metadata": {},
   "outputs": [],
   "source": [
    "np.savetxt(\"Hydroelectric_Pumped_Storage.csv\", Hydroelectric_Pumped_Storage_data, fmt=\"%s\", delimiter=\",\")"
   ]
  },
  {
   "cell_type": "code",
   "execution_count": 128,
   "id": "ca3091c6",
   "metadata": {},
   "outputs": [],
   "source": [
    "np.savetxt(\"Geothermal.csv\", Geothermal_data, fmt=\"%s\", delimiter=\",\")"
   ]
  },
  {
   "cell_type": "code",
   "execution_count": 127,
   "id": "1db7f557",
   "metadata": {},
   "outputs": [],
   "source": [
    "np.savetxt(\"Natural_Gas.csv\", Natural_Gas_data, fmt=\"%s\", delimiter=\",\")"
   ]
  },
  {
   "cell_type": "code",
   "execution_count": 129,
   "id": "a81f4cf8",
   "metadata": {},
   "outputs": [],
   "source": [
    "np.savetxt(\"Nuclear_Electric_Power.csv\", Nuclear_Electric_Power_data, fmt=\"%s\", delimiter=\",\")"
   ]
  },
  {
   "cell_type": "code",
   "execution_count": 130,
   "id": "6e987b14",
   "metadata": {},
   "outputs": [],
   "source": [
    "np.savetxt(\"Other_Gases.csv\", Other_Gases_data, fmt=\"%s\", delimiter=\",\")"
   ]
  },
  {
   "cell_type": "code",
   "execution_count": 131,
   "id": "e1cfe0b9",
   "metadata": {},
   "outputs": [],
   "source": [
    "np.savetxt(\"Solar.csv\", Solar_data, fmt=\"%s\", delimiter=\",\")"
   ]
  },
  {
   "cell_type": "code",
   "execution_count": 149,
   "id": "9c25d6c5",
   "metadata": {},
   "outputs": [],
   "source": [
    "np.savetxt(\"Waste.csv\", Waste_data, fmt=\"%s\", delimiter=\",\")"
   ]
  },
  {
   "cell_type": "code",
   "execution_count": 150,
   "id": "e19878a0",
   "metadata": {},
   "outputs": [],
   "source": [
    "np.savetxt(\"Wood.csv\", Wood_data, fmt=\"%s\", delimiter=\",\")"
   ]
  },
  {
   "cell_type": "code",
   "execution_count": 151,
   "id": "95c7ce7d",
   "metadata": {},
   "outputs": [],
   "source": [
    "np.savetxt(\"Unknown_Sources.csv\", Unknown_Sources_data, fmt=\"%s\", delimiter=\",\")"
   ]
  },
  {
   "cell_type": "code",
   "execution_count": null,
   "id": "4cad96a7",
   "metadata": {},
   "outputs": [],
   "source": []
  }
 ],
 "metadata": {
  "kernelspec": {
   "display_name": "Python 3 (ipykernel)",
   "language": "python",
   "name": "python3"
  },
  "language_info": {
   "codemirror_mode": {
    "name": "ipython",
    "version": 3
   },
   "file_extension": ".py",
   "mimetype": "text/x-python",
   "name": "python",
   "nbconvert_exporter": "python",
   "pygments_lexer": "ipython3",
   "version": "3.9.12"
  }
 },
 "nbformat": 4,
 "nbformat_minor": 5
}

{
 "cells": [
  {
   "cell_type": "markdown",
   "id": "866610e5",
   "metadata": {},
   "source": [
    "# Import Library"
   ]
  },
  {
   "cell_type": "code",
   "execution_count": 15,
   "id": "bc012bfa",
   "metadata": {},
   "outputs": [],
   "source": [
    "import numpy as np\n",
    "import matplotlib.pyplot as plt\n",
    "import csv"
   ]
  },
  {
   "cell_type": "markdown",
   "id": "3e155960",
   "metadata": {},
   "source": [
    "# Importing the Dataset"
   ]
  },
  {
   "cell_type": "code",
   "execution_count": 16,
   "id": "afe1f69a",
   "metadata": {},
   "outputs": [],
   "source": [
    "data = []\n",
    "\n",
    "# read the file\n",
    "with open(\"./raw_data.csv\", \"r\") as csvfile:\n",
    "    file_reader = csv.reader(csvfile)\n",
    "        \n",
    "    for row in file_reader:\n",
    "        data.append(row)\n",
    "        \n",
    "# change data into numpy array\n",
    "data = np.array(data)\n"
   ]
  },
  {
   "cell_type": "code",
   "execution_count": 17,
   "id": "a1375ea6",
   "metadata": {},
   "outputs": [
    {
     "data": {
      "text/plain": [
       "array([['MSN', 'YYYYMM', 'Value', 'Column_Order', 'Description', 'Unit'],\n",
       "       ['CLETPUS', '194913', '135451.32', '1',\n",
       "        'Electricity Net Generation From Coal, All Sectors',\n",
       "        'Million Kilowatthours'],\n",
       "       ['CLETPUS', '195013', '154519.994', '1',\n",
       "        'Electricity Net Generation From Coal, All Sectors',\n",
       "        'Million Kilowatthours'],\n",
       "       ...,\n",
       "       ['ELETPUS', '202209', '350919.559', '13',\n",
       "        'Electricity Net Generation Total (including from sources not shown), All Sectors',\n",
       "        'Million Kilowatthours'],\n",
       "       ['ELETPUS', '202210', '314048.288', '13',\n",
       "        'Electricity Net Generation Total (including from sources not shown), All Sectors',\n",
       "        'Million Kilowatthours'],\n",
       "       ['ELETPUS', '202211', '323198.745', '13',\n",
       "        'Electricity Net Generation Total (including from sources not shown), All Sectors',\n",
       "        'Million Kilowatthours']], dtype='<U80')"
      ]
     },
     "execution_count": 17,
     "metadata": {},
     "output_type": "execute_result"
    }
   ],
   "source": [
    "data"
   ]
  },
  {
   "cell_type": "code",
   "execution_count": 18,
   "id": "3ac621f9",
   "metadata": {},
   "outputs": [
    {
     "data": {
      "text/plain": [
       "(8737, 6)"
      ]
     },
     "execution_count": 18,
     "metadata": {},
     "output_type": "execute_result"
    }
   ],
   "source": [
    "data.shape"
   ]
  },
  {
   "cell_type": "markdown",
   "id": "30085435",
   "metadata": {},
   "source": [
    "# Saving File"
   ]
  },
  {
   "cell_type": "code",
   "execution_count": 19,
   "id": "642de4a7",
   "metadata": {},
   "outputs": [],
   "source": [
    "np.savetxt(\"energy.npy\", data, fmt=\"%s\", delimiter=\",\")\n",
    "np.savetxt(\"energy.csv\", data, fmt=\"%s\", delimiter=\",\")"
   ]
  },
  {
   "cell_type": "markdown",
   "id": "54b0e2b8",
   "metadata": {},
   "source": [
    "# Describe Data"
   ]
  },
  {
   "cell_type": "code",
   "execution_count": 20,
   "id": "d38e9c98",
   "metadata": {},
   "outputs": [
    {
     "name": "stdout",
     "output_type": "stream",
     "text": [
      "Header:\n",
      " ['MSN' 'YYYYMM' 'Value' 'Column_Order' 'Description' 'Unit'] \n",
      "\n",
      " Values\n",
      " [['CLETPUS' '194913' '135451.32' '1'\n",
      "  'Electricity Net Generation From Coal, All Sectors'\n",
      "  'Million Kilowatthours']\n",
      " ['CLETPUS' '195013' '154519.994' '1'\n",
      "  'Electricity Net Generation From Coal, All Sectors'\n",
      "  'Million Kilowatthours']\n",
      " ['CLETPUS' '195113' '185203.657' '1'\n",
      "  'Electricity Net Generation From Coal, All Sectors'\n",
      "  'Million Kilowatthours']\n",
      " ...\n",
      " ['ELETPUS' '202209' '350919.559' '13'\n",
      "  'Electricity Net Generation Total (including from sources not shown), All Sectors'\n",
      "  'Million Kilowatthours']\n",
      " ['ELETPUS' '202210' '314048.288' '13'\n",
      "  'Electricity Net Generation Total (including from sources not shown), All Sectors'\n",
      "  'Million Kilowatthours']\n",
      " ['ELETPUS' '202211' '323198.745' '13'\n",
      "  'Electricity Net Generation Total (including from sources not shown), All Sectors'\n",
      "  'Million Kilowatthours']]\n"
     ]
    }
   ],
   "source": [
    "header = data[0,:]\n",
    "values = data[1:,:]\n",
    "\n",
    "print(\"Header:\\n\",header,\"\\n\\n Values\\n\",values)"
   ]
  },
  {
   "cell_type": "markdown",
   "id": "051349f7",
   "metadata": {},
   "source": [
    "## Sources of Energy in US"
   ]
  },
  {
   "cell_type": "code",
   "execution_count": 21,
   "id": "e47f4441",
   "metadata": {},
   "outputs": [
    {
     "data": {
      "text/plain": [
       "array(['Electricity Net Generation From Coal, All Sectors',\n",
       "       'Electricity Net Generation From Coal, All Sectors',\n",
       "       'Electricity Net Generation From Coal, All Sectors', ...,\n",
       "       'Electricity Net Generation Total (including from sources not shown), All Sectors',\n",
       "       'Electricity Net Generation Total (including from sources not shown), All Sectors',\n",
       "       'Electricity Net Generation Total (including from sources not shown), All Sectors'],\n",
       "      dtype='<U80')"
      ]
     },
     "execution_count": 21,
     "metadata": {},
     "output_type": "execute_result"
    }
   ],
   "source": [
    "(values[:,4])"
   ]
  },
  {
   "cell_type": "code",
   "execution_count": 22,
   "id": "43ac2205",
   "metadata": {},
   "outputs": [
    {
     "data": {
      "text/plain": [
       "array([['CLETPUS', '195013', '154519.994', '1',\n",
       "        'Electricity Net Generation From Coal, All Sectors',\n",
       "        'Million Kilowatthours'],\n",
       "       ['CLETPUS', '195113', '185203.657', '1',\n",
       "        'Electricity Net Generation From Coal, All Sectors',\n",
       "        'Million Kilowatthours'],\n",
       "       ['CLETPUS', '195213', '195436.666', '1',\n",
       "        'Electricity Net Generation From Coal, All Sectors',\n",
       "        'Million Kilowatthours'],\n",
       "       ...,\n",
       "       ['ELETPUS', '202209', '350919.559', '13',\n",
       "        'Electricity Net Generation Total (including from sources not shown), All Sectors',\n",
       "        'Million Kilowatthours'],\n",
       "       ['ELETPUS', '202210', '314048.288', '13',\n",
       "        'Electricity Net Generation Total (including from sources not shown), All Sectors',\n",
       "        'Million Kilowatthours'],\n",
       "       ['ELETPUS', '202211', '323198.745', '13',\n",
       "        'Electricity Net Generation Total (including from sources not shown), All Sectors',\n",
       "        'Million Kilowatthours']], dtype='<U80')"
      ]
     },
     "execution_count": 22,
     "metadata": {},
     "output_type": "execute_result"
    }
   ],
   "source": [
    "(values[1:,:])"
   ]
  },
  {
   "cell_type": "code",
   "execution_count": 23,
   "id": "c6381c7f",
   "metadata": {},
   "outputs": [
    {
     "name": "stdout",
     "output_type": "stream",
     "text": [
      "The Usa generates Electricity from 13 sources\n",
      "['Electricity Net Generation From Coal, All Sectors'\n",
      " 'Electricity Net Generation From Conventional Hydroelectric Power, All Sectors'\n",
      " 'Electricity Net Generation From Geothermal, All Sectors'\n",
      " 'Electricity Net Generation From Hydroelectric Pumped Storage, All Sectors'\n",
      " 'Electricity Net Generation From Natural Gas, All Sectors'\n",
      " 'Electricity Net Generation From Nuclear Electric Power, All Sectors'\n",
      " 'Electricity Net Generation From Other Gases, All Sectors'\n",
      " 'Electricity Net Generation From Petroleum, All Sectors'\n",
      " 'Electricity Net Generation From Solar, All Sectors'\n",
      " 'Electricity Net Generation From Waste, All Sectors'\n",
      " 'Electricity Net Generation From Wind, All Sectors'\n",
      " 'Electricity Net Generation From Wood, All Sectors'\n",
      " 'Electricity Net Generation Total (including from sources not shown), All Sectors']\n"
     ]
    }
   ],
   "source": [
    "num_of_sources = len(np.unique(values[:,4]))\n",
    "\n",
    "print(\"The Usa generates Electricity from {} sources\".format(num_of_sources))\n",
    "print(np.unique(values[:,4]))"
   ]
  },
  {
   "cell_type": "markdown",
   "id": "f5294d65",
   "metadata": {},
   "source": [
    "# Extract the wind energy data"
   ]
  },
  {
   "cell_type": "code",
   "execution_count": 24,
   "id": "2435825c",
   "metadata": {},
   "outputs": [],
   "source": [
    "wind_cond = values[:,4] ==  \"Electricity Net Generation From Wind, All Sectors\"\n"
   ]
  },
  {
   "cell_type": "code",
   "execution_count": 25,
   "id": "b81aadcd",
   "metadata": {},
   "outputs": [],
   "source": [
    "wind_data = values[wind_cond]"
   ]
  },
  {
   "cell_type": "code",
   "execution_count": 26,
   "id": "f04a1e0b",
   "metadata": {},
   "outputs": [
    {
     "data": {
      "text/plain": [
       "(672, 6)"
      ]
     },
     "execution_count": 26,
     "metadata": {},
     "output_type": "execute_result"
    }
   ],
   "source": [
    "wind_data.shape"
   ]
  },
  {
   "cell_type": "code",
   "execution_count": 27,
   "id": "78160c41",
   "metadata": {},
   "outputs": [],
   "source": [
    "Petroleum_cond = values[:,4] == 'Electricity Net Generation From Petroleum, All Sectors'"
   ]
  },
  {
   "cell_type": "code",
   "execution_count": 28,
   "id": "2cb23507",
   "metadata": {},
   "outputs": [],
   "source": [
    "Petroleum_data = values[Petroleum_cond]"
   ]
  },
  {
   "cell_type": "code",
   "execution_count": 29,
   "id": "7c79071a",
   "metadata": {},
   "outputs": [
    {
     "data": {
      "text/plain": [
       "(672, 6)"
      ]
     },
     "execution_count": 29,
     "metadata": {},
     "output_type": "execute_result"
    }
   ],
   "source": [
    "Petroleum_data.shape"
   ]
  },
  {
   "cell_type": "code",
   "execution_count": 30,
   "id": "22424ce6",
   "metadata": {},
   "outputs": [],
   "source": [
    "Coal_cond = values[:,4] == 'Electricity Net Generation From Coal, All Sectors'"
   ]
  },
  {
   "cell_type": "code",
   "execution_count": 31,
   "id": "143ed7a9",
   "metadata": {},
   "outputs": [],
   "source": [
    "Coal_data = values[Coal_cond]"
   ]
  },
  {
   "cell_type": "code",
   "execution_count": 32,
   "id": "d805ac28",
   "metadata": {},
   "outputs": [
    {
     "data": {
      "text/plain": [
       "(672, 6)"
      ]
     },
     "execution_count": 32,
     "metadata": {},
     "output_type": "execute_result"
    }
   ],
   "source": [
    "Coal_data.shape"
   ]
  },
  {
   "cell_type": "code",
   "execution_count": 96,
   "id": "e965da68",
   "metadata": {},
   "outputs": [],
   "source": [
    "Conventional_cond = values[:,4] == 'Electricity Net Generation From Conventional Hydroelectric Power, All Sectors'"
   ]
  },
  {
   "cell_type": "code",
   "execution_count": 97,
   "id": "4b7a51ec",
   "metadata": {},
   "outputs": [],
   "source": [
    "ConventionalHydroelectricPower_data = values[Conventional_cond]"
   ]
  },
  {
   "cell_type": "code",
   "execution_count": 100,
   "id": "25752986",
   "metadata": {},
   "outputs": [
    {
     "data": {
      "text/plain": [
       "(672, 6)"
      ]
     },
     "execution_count": 100,
     "metadata": {},
     "output_type": "execute_result"
    }
   ],
   "source": [
    "ConventionalHydroelectricPower_data.shape"
   ]
  },
  {
   "cell_type": "code",
   "execution_count": 42,
   "id": "10159cab",
   "metadata": {},
   "outputs": [],
   "source": [
    "Hydroelectric_Pumped_Storage_cond = values[:,4] == 'Electricity Net Generation From Hydroelectric Pumped Storage, All Sectors'"
   ]
  },
  {
   "cell_type": "code",
   "execution_count": 43,
   "id": "90065fa0",
   "metadata": {},
   "outputs": [],
   "source": [
    "Hydroelectric_Pumped_Storage_data = values[Hydroelectric_Pumped_Storage_cond]"
   ]
  },
  {
   "cell_type": "code",
   "execution_count": 44,
   "id": "26056f8d",
   "metadata": {},
   "outputs": [
    {
     "data": {
      "text/plain": [
       "(672, 6)"
      ]
     },
     "execution_count": 44,
     "metadata": {},
     "output_type": "execute_result"
    }
   ],
   "source": [
    "Hydroelectric_Pumped_Storage_data.shape"
   ]
  },
  {
   "cell_type": "code",
   "execution_count": 45,
   "id": "1d77bc56",
   "metadata": {},
   "outputs": [],
   "source": [
    "Geothermal_cond = values[:,4] ==  'Electricity Net Generation From Geothermal, All Sectors'"
   ]
  },
  {
   "cell_type": "code",
   "execution_count": 46,
   "id": "c572c4d0",
   "metadata": {},
   "outputs": [],
   "source": [
    "Geothermal_data = values[Geothermal_cond]"
   ]
  },
  {
   "cell_type": "code",
   "execution_count": 47,
   "id": "0d83ee27",
   "metadata": {},
   "outputs": [
    {
     "data": {
      "text/plain": [
       "(672, 6)"
      ]
     },
     "execution_count": 47,
     "metadata": {},
     "output_type": "execute_result"
    }
   ],
   "source": [
    "Geothermal_data.shape"
   ]
  },
  {
   "cell_type": "code",
   "execution_count": 48,
   "id": "d5975edd",
   "metadata": {},
   "outputs": [],
   "source": [
    "Natural_Gas_cond = values[:,4] == 'Electricity Net Generation From Natural Gas, All Sectors'"
   ]
  },
  {
   "cell_type": "code",
   "execution_count": 49,
   "id": "bfc0f987",
   "metadata": {},
   "outputs": [],
   "source": [
    "Natural_Gas_data = values[Natural_Gas_cond]"
   ]
  },
  {
   "cell_type": "code",
   "execution_count": 50,
   "id": "dc3302fe",
   "metadata": {},
   "outputs": [
    {
     "data": {
      "text/plain": [
       "(672, 6)"
      ]
     },
     "execution_count": 50,
     "metadata": {},
     "output_type": "execute_result"
    }
   ],
   "source": [
    "Natural_Gas_data.shape"
   ]
  },
  {
   "cell_type": "code",
   "execution_count": 51,
   "id": "64fb1c2e",
   "metadata": {},
   "outputs": [],
   "source": [
    "Nuclear_Electric_Power_cond = values[:,4] == 'Electricity Net Generation From Nuclear Electric Power, All Sectors'"
   ]
  },
  {
   "cell_type": "code",
   "execution_count": 52,
   "id": "9c7567df",
   "metadata": {},
   "outputs": [],
   "source": [
    "Nuclear_Electric_Power_data = values[Nuclear_Electric_Power_cond]"
   ]
  },
  {
   "cell_type": "code",
   "execution_count": 53,
   "id": "81fbd76e",
   "metadata": {},
   "outputs": [
    {
     "data": {
      "text/plain": [
       "(672, 6)"
      ]
     },
     "execution_count": 53,
     "metadata": {},
     "output_type": "execute_result"
    }
   ],
   "source": [
    "Nuclear_Electric_Power_data.shape"
   ]
  },
  {
   "cell_type": "code",
   "execution_count": 54,
   "id": "5a1c7ee6",
   "metadata": {},
   "outputs": [],
   "source": [
    "Other_Gases_cond = values[:,4] == 'Electricity Net Generation From Other Gases, All Sectors'"
   ]
  },
  {
   "cell_type": "code",
   "execution_count": 55,
   "id": "acf51f67",
   "metadata": {},
   "outputs": [],
   "source": [
    "Other_Gases_data = values[Other_Gases_cond]"
   ]
  },
  {
   "cell_type": "code",
   "execution_count": 56,
   "id": "7cd6ae49",
   "metadata": {},
   "outputs": [
    {
     "data": {
      "text/plain": [
       "(672, 6)"
      ]
     },
     "execution_count": 56,
     "metadata": {},
     "output_type": "execute_result"
    }
   ],
   "source": [
    "Other_Gases_data.shape"
   ]
  },
  {
   "cell_type": "code",
   "execution_count": 57,
   "id": "4ae9fe82",
   "metadata": {},
   "outputs": [],
   "source": [
    "Solar_cond = values[:,4] == 'Electricity Net Generation From Solar, All Sectors'"
   ]
  },
  {
   "cell_type": "code",
   "execution_count": 58,
   "id": "2f086203",
   "metadata": {},
   "outputs": [],
   "source": [
    "Solar_data = values[Solar_cond]"
   ]
  },
  {
   "cell_type": "code",
   "execution_count": 59,
   "id": "3010fb74",
   "metadata": {},
   "outputs": [
    {
     "data": {
      "text/plain": [
       "(672, 6)"
      ]
     },
     "execution_count": 59,
     "metadata": {},
     "output_type": "execute_result"
    }
   ],
   "source": [
    "Solar_data.shape"
   ]
  },
  {
   "cell_type": "code",
   "execution_count": 60,
   "id": "ee9f8473",
   "metadata": {},
   "outputs": [],
   "source": [
    "Waste_cond = values[:,4] == 'Electricity Net Generation From Waste, All Sectors'"
   ]
  },
  {
   "cell_type": "code",
   "execution_count": 61,
   "id": "e261a0a8",
   "metadata": {},
   "outputs": [],
   "source": [
    "Waste_data = values[Waste_cond]"
   ]
  },
  {
   "cell_type": "code",
   "execution_count": 62,
   "id": "383a4a39",
   "metadata": {},
   "outputs": [
    {
     "data": {
      "text/plain": [
       "(672, 6)"
      ]
     },
     "execution_count": 62,
     "metadata": {},
     "output_type": "execute_result"
    }
   ],
   "source": [
    "Waste_data.shape"
   ]
  },
  {
   "cell_type": "code",
   "execution_count": 63,
   "id": "71e8b9de",
   "metadata": {},
   "outputs": [],
   "source": [
    "Wood_cond = values[:,4] == 'Electricity Net Generation From Wood, All Sectors'"
   ]
  },
  {
   "cell_type": "code",
   "execution_count": 64,
   "id": "70f96657",
   "metadata": {},
   "outputs": [],
   "source": [
    "Wood_data = values[Wood_cond]"
   ]
  },
  {
   "cell_type": "code",
   "execution_count": 65,
   "id": "4669c17f",
   "metadata": {},
   "outputs": [
    {
     "data": {
      "text/plain": [
       "(672, 6)"
      ]
     },
     "execution_count": 65,
     "metadata": {},
     "output_type": "execute_result"
    }
   ],
   "source": [
    "Wood_data.shape"
   ]
  },
  {
   "cell_type": "code",
   "execution_count": 66,
   "id": "dc09897e",
   "metadata": {},
   "outputs": [],
   "source": [
    "Unknown_Sources_cond = values[:,4] == 'Electricity Net Generation Total (including from sources not shown), All Sectors'"
   ]
  },
  {
   "cell_type": "code",
   "execution_count": 67,
   "id": "22030718",
   "metadata": {},
   "outputs": [],
   "source": [
    "Unknown_Sources_data = values[Unknown_Sources_cond]"
   ]
  },
  {
   "cell_type": "code",
   "execution_count": 68,
   "id": "0c175122",
   "metadata": {},
   "outputs": [
    {
     "data": {
      "text/plain": [
       "(672, 6)"
      ]
     },
     "execution_count": 68,
     "metadata": {},
     "output_type": "execute_result"
    }
   ],
   "source": [
    "Unknown_Sources_data.shape"
   ]
  },
  {
   "cell_type": "markdown",
   "id": "14b51e08",
   "metadata": {},
   "source": [
    "# Save into File"
   ]
  },
  {
   "cell_type": "code",
   "execution_count": 69,
   "id": "af2d7c55",
   "metadata": {},
   "outputs": [],
   "source": [
    "np.savetxt(\"wind.csv\", wind_data, fmt=\"%s\", delimiter=\",\")"
   ]
  },
  {
   "cell_type": "code",
   "execution_count": 70,
   "id": "9112d6fb",
   "metadata": {},
   "outputs": [],
   "source": [
    "np.savetxt(\"Petroleum.csv\", Petroleum_data, fmt=\"%s\", delimiter=\",\")"
   ]
  },
  {
   "cell_type": "code",
   "execution_count": 71,
   "id": "bb365e6c",
   "metadata": {},
   "outputs": [],
   "source": [
    "np.savetxt(\"Coal.csv\", Coal_data, fmt=\"%s\", delimiter=\",\")"
   ]
  },
  {
   "cell_type": "code",
   "execution_count": 102,
   "id": "0a3217e0",
   "metadata": {},
   "outputs": [],
   "source": [
    "np.savetxt(\"Conventional_Hydroelectric_Power_data.csv\", ConventionalHydroelectricPower_data, fmt=\"%s\", delimiter=\",\")"
   ]
  },
  {
   "cell_type": "code",
   "execution_count": 73,
   "id": "bdd19d34",
   "metadata": {},
   "outputs": [],
   "source": [
    "np.savetxt(\"Hydroelectric_Pumped_Storage.csv\", Hydroelectric_Pumped_Storage_data, fmt=\"%s\", delimiter=\",\")"
   ]
  },
  {
   "cell_type": "code",
   "execution_count": 74,
   "id": "ca3091c6",
   "metadata": {},
   "outputs": [],
   "source": [
    "np.savetxt(\"Geothermal.csv\", Geothermal_data, fmt=\"%s\", delimiter=\",\")"
   ]
  },
  {
   "cell_type": "code",
   "execution_count": 75,
   "id": "1db7f557",
   "metadata": {},
   "outputs": [],
   "source": [
    "np.savetxt(\"Natural_Gas.csv\", Natural_Gas_data, fmt=\"%s\", delimiter=\",\")"
   ]
  },
  {
   "cell_type": "code",
   "execution_count": 76,
   "id": "a81f4cf8",
   "metadata": {},
   "outputs": [],
   "source": [
    "np.savetxt(\"Nuclear_Electric_Power.csv\", Nuclear_Electric_Power_data, fmt=\"%s\", delimiter=\",\")"
   ]
  },
  {
   "cell_type": "code",
   "execution_count": 77,
   "id": "6e987b14",
   "metadata": {},
   "outputs": [],
   "source": [
    "np.savetxt(\"Other_Gases.csv\", Other_Gases_data, fmt=\"%s\", delimiter=\",\")"
   ]
  },
  {
   "cell_type": "code",
   "execution_count": 78,
   "id": "e1cfe0b9",
   "metadata": {},
   "outputs": [],
   "source": [
    "np.savetxt(\"Solar.csv\", Solar_data, fmt=\"%s\", delimiter=\",\")"
   ]
  },
  {
   "cell_type": "code",
   "execution_count": 79,
   "id": "9c25d6c5",
   "metadata": {},
   "outputs": [],
   "source": [
    "np.savetxt(\"Waste.csv\", Waste_data, fmt=\"%s\", delimiter=\",\")"
   ]
  },
  {
   "cell_type": "code",
   "execution_count": 80,
   "id": "e19878a0",
   "metadata": {},
   "outputs": [],
   "source": [
    "np.savetxt(\"Wood.csv\", Wood_data, fmt=\"%s\", delimiter=\",\")"
   ]
  },
  {
   "cell_type": "code",
   "execution_count": 81,
   "id": "95c7ce7d",
   "metadata": {},
   "outputs": [],
   "source": [
    "np.savetxt(\"Unknown_Sources.csv\", Unknown_Sources_data, fmt=\"%s\", delimiter=\",\")"
   ]
  },
  {
   "cell_type": "markdown",
   "id": "776534b8",
   "metadata": {},
   "source": []
  },
  {
   "cell_type": "markdown",
   "id": "05ea14d0",
   "metadata": {},
   "source": [
    "# Importing the dataset"
   ]
  },
  {
   "cell_type": "code",
   "execution_count": 103,
   "id": "01642d16",
   "metadata": {},
   "outputs": [],
   "source": [
    "energy = []\n",
    "\n",
    "# read the file\n",
    "with open(\"./raw_data.csv\", \"r\") as csvfile:\n",
    "    file_reader = csv.reader(csvfile)\n",
    "        \n",
    "    for row in file_reader:\n",
    "       energy.append(row)\n",
    "        \n",
    "# change data into numpy array\n",
    "energy = np.array(energy)"
   ]
  },
  {
   "cell_type": "code",
   "execution_count": 104,
   "id": "14e723b3",
   "metadata": {},
   "outputs": [
    {
     "data": {
      "text/plain": [
       "array([['MSN', 'YYYYMM', 'Value', 'Column_Order', 'Description', 'Unit'],\n",
       "       ['CLETPUS', '194913', '135451.32', '1',\n",
       "        'Electricity Net Generation From Coal, All Sectors',\n",
       "        'Million Kilowatthours'],\n",
       "       ['CLETPUS', '195013', '154519.994', '1',\n",
       "        'Electricity Net Generation From Coal, All Sectors',\n",
       "        'Million Kilowatthours'],\n",
       "       ...,\n",
       "       ['ELETPUS', '202209', '350919.559', '13',\n",
       "        'Electricity Net Generation Total (including from sources not shown), All Sectors',\n",
       "        'Million Kilowatthours'],\n",
       "       ['ELETPUS', '202210', '314048.288', '13',\n",
       "        'Electricity Net Generation Total (including from sources not shown), All Sectors',\n",
       "        'Million Kilowatthours'],\n",
       "       ['ELETPUS', '202211', '323198.745', '13',\n",
       "        'Electricity Net Generation Total (including from sources not shown), All Sectors',\n",
       "        'Million Kilowatthours']], dtype='<U80')"
      ]
     },
     "execution_count": 104,
     "metadata": {},
     "output_type": "execute_result"
    }
   ],
   "source": [
    "energy"
   ]
  },
  {
   "cell_type": "markdown",
   "id": "768f1b74",
   "metadata": {},
   "source": [
    "# Saving File"
   ]
  },
  {
   "cell_type": "code",
   "execution_count": 105,
   "id": "051662fd",
   "metadata": {},
   "outputs": [],
   "source": [
    "np.savetxt(\"energy.csv\", energy, fmt=\"%s\", delimiter=\",\")\n"
   ]
  },
  {
   "cell_type": "markdown",
   "id": "96471148",
   "metadata": {},
   "source": [
    "# Describe Data"
   ]
  },
  {
   "cell_type": "code",
   "execution_count": 119,
   "id": "da316963",
   "metadata": {},
   "outputs": [
    {
     "name": "stdout",
     "output_type": "stream",
     "text": [
      "Header:\n",
      " ['MSN' 'YYYYMM' 'Value' 'Column_Order' 'Description' 'Unit'] \n",
      "\n",
      " Data\n",
      " [['CLETPUS' '194913' '135451.32' '1'\n",
      "  'Electricity Net Generation From Coal, All Sectors'\n",
      "  'Million Kilowatthours']\n",
      " ['CLETPUS' '195013' '154519.994' '1'\n",
      "  'Electricity Net Generation From Coal, All Sectors'\n",
      "  'Million Kilowatthours']\n",
      " ['CLETPUS' '195113' '185203.657' '1'\n",
      "  'Electricity Net Generation From Coal, All Sectors'\n",
      "  'Million Kilowatthours']\n",
      " ...\n",
      " ['ELETPUS' '202209' '350919.559' '13'\n",
      "  'Electricity Net Generation Total (including from sources not shown), All Sectors'\n",
      "  'Million Kilowatthours']\n",
      " ['ELETPUS' '202210' '314048.288' '13'\n",
      "  'Electricity Net Generation Total (including from sources not shown), All Sectors'\n",
      "  'Million Kilowatthours']\n",
      " ['ELETPUS' '202211' '323198.745' '13'\n",
      "  'Electricity Net Generation Total (including from sources not shown), All Sectors'\n",
      "  'Million Kilowatthours']]\n"
     ]
    }
   ],
   "source": [
    "header = energy[0,:]\n",
    "data = energy[1:,:]\n",
    "\n",
    "print(\"Header:\\n\",header,\"\\n\\n Data\\n\",data)"
   ]
  },
  {
   "cell_type": "code",
   "execution_count": 120,
   "id": "75a80abb",
   "metadata": {},
   "outputs": [],
   "source": [
    "annual_mask = np.array([x[-2:] == '13' for x in wind_data[:,1]] )"
   ]
  },
  {
   "cell_type": "code",
   "execution_count": 121,
   "id": "fad94751",
   "metadata": {},
   "outputs": [],
   "source": [
    "annual_wind_data = wind_data[annual_mask]"
   ]
  },
  {
   "cell_type": "code",
   "execution_count": 122,
   "id": "929666b3",
   "metadata": {},
   "outputs": [
    {
     "data": {
      "text/plain": [
       "array([['WYETPUS', '194913', 'Not Available', '12',\n",
       "        'Electricity Net Generation From Wind, All Sectors',\n",
       "        'Million Kilowatthours'],\n",
       "       ['WYETPUS', '195013', 'Not Available', '12',\n",
       "        'Electricity Net Generation From Wind, All Sectors',\n",
       "        'Million Kilowatthours'],\n",
       "       ['WYETPUS', '195113', 'Not Available', '12',\n",
       "        'Electricity Net Generation From Wind, All Sectors',\n",
       "        'Million Kilowatthours'],\n",
       "       ['WYETPUS', '195213', 'Not Available', '12',\n",
       "        'Electricity Net Generation From Wind, All Sectors',\n",
       "        'Million Kilowatthours'],\n",
       "       ['WYETPUS', '195313', 'Not Available', '12',\n",
       "        'Electricity Net Generation From Wind, All Sectors',\n",
       "        'Million Kilowatthours'],\n",
       "       ['WYETPUS', '195413', 'Not Available', '12',\n",
       "        'Electricity Net Generation From Wind, All Sectors',\n",
       "        'Million Kilowatthours'],\n",
       "       ['WYETPUS', '195513', 'Not Available', '12',\n",
       "        'Electricity Net Generation From Wind, All Sectors',\n",
       "        'Million Kilowatthours'],\n",
       "       ['WYETPUS', '195613', 'Not Available', '12',\n",
       "        'Electricity Net Generation From Wind, All Sectors',\n",
       "        'Million Kilowatthours'],\n",
       "       ['WYETPUS', '195713', 'Not Available', '12',\n",
       "        'Electricity Net Generation From Wind, All Sectors',\n",
       "        'Million Kilowatthours'],\n",
       "       ['WYETPUS', '195813', 'Not Available', '12',\n",
       "        'Electricity Net Generation From Wind, All Sectors',\n",
       "        'Million Kilowatthours'],\n",
       "       ['WYETPUS', '195913', 'Not Available', '12',\n",
       "        'Electricity Net Generation From Wind, All Sectors',\n",
       "        'Million Kilowatthours'],\n",
       "       ['WYETPUS', '196013', 'Not Available', '12',\n",
       "        'Electricity Net Generation From Wind, All Sectors',\n",
       "        'Million Kilowatthours'],\n",
       "       ['WYETPUS', '196113', 'Not Available', '12',\n",
       "        'Electricity Net Generation From Wind, All Sectors',\n",
       "        'Million Kilowatthours'],\n",
       "       ['WYETPUS', '196213', 'Not Available', '12',\n",
       "        'Electricity Net Generation From Wind, All Sectors',\n",
       "        'Million Kilowatthours'],\n",
       "       ['WYETPUS', '196313', 'Not Available', '12',\n",
       "        'Electricity Net Generation From Wind, All Sectors',\n",
       "        'Million Kilowatthours'],\n",
       "       ['WYETPUS', '196413', 'Not Available', '12',\n",
       "        'Electricity Net Generation From Wind, All Sectors',\n",
       "        'Million Kilowatthours'],\n",
       "       ['WYETPUS', '196513', 'Not Available', '12',\n",
       "        'Electricity Net Generation From Wind, All Sectors',\n",
       "        'Million Kilowatthours'],\n",
       "       ['WYETPUS', '196613', 'Not Available', '12',\n",
       "        'Electricity Net Generation From Wind, All Sectors',\n",
       "        'Million Kilowatthours'],\n",
       "       ['WYETPUS', '196713', 'Not Available', '12',\n",
       "        'Electricity Net Generation From Wind, All Sectors',\n",
       "        'Million Kilowatthours'],\n",
       "       ['WYETPUS', '196813', 'Not Available', '12',\n",
       "        'Electricity Net Generation From Wind, All Sectors',\n",
       "        'Million Kilowatthours'],\n",
       "       ['WYETPUS', '196913', 'Not Available', '12',\n",
       "        'Electricity Net Generation From Wind, All Sectors',\n",
       "        'Million Kilowatthours'],\n",
       "       ['WYETPUS', '197013', 'Not Available', '12',\n",
       "        'Electricity Net Generation From Wind, All Sectors',\n",
       "        'Million Kilowatthours'],\n",
       "       ['WYETPUS', '197113', 'Not Available', '12',\n",
       "        'Electricity Net Generation From Wind, All Sectors',\n",
       "        'Million Kilowatthours'],\n",
       "       ['WYETPUS', '197213', 'Not Available', '12',\n",
       "        'Electricity Net Generation From Wind, All Sectors',\n",
       "        'Million Kilowatthours'],\n",
       "       ['WYETPUS', '197313', 'Not Available', '12',\n",
       "        'Electricity Net Generation From Wind, All Sectors',\n",
       "        'Million Kilowatthours'],\n",
       "       ['WYETPUS', '197413', 'Not Available', '12',\n",
       "        'Electricity Net Generation From Wind, All Sectors',\n",
       "        'Million Kilowatthours'],\n",
       "       ['WYETPUS', '197513', 'Not Available', '12',\n",
       "        'Electricity Net Generation From Wind, All Sectors',\n",
       "        'Million Kilowatthours'],\n",
       "       ['WYETPUS', '197613', 'Not Available', '12',\n",
       "        'Electricity Net Generation From Wind, All Sectors',\n",
       "        'Million Kilowatthours'],\n",
       "       ['WYETPUS', '197713', 'Not Available', '12',\n",
       "        'Electricity Net Generation From Wind, All Sectors',\n",
       "        'Million Kilowatthours'],\n",
       "       ['WYETPUS', '197813', 'Not Available', '12',\n",
       "        'Electricity Net Generation From Wind, All Sectors',\n",
       "        'Million Kilowatthours'],\n",
       "       ['WYETPUS', '197913', 'Not Available', '12',\n",
       "        'Electricity Net Generation From Wind, All Sectors',\n",
       "        'Million Kilowatthours'],\n",
       "       ['WYETPUS', '198013', 'Not Available', '12',\n",
       "        'Electricity Net Generation From Wind, All Sectors',\n",
       "        'Million Kilowatthours'],\n",
       "       ['WYETPUS', '198113', 'Not Available', '12',\n",
       "        'Electricity Net Generation From Wind, All Sectors',\n",
       "        'Million Kilowatthours'],\n",
       "       ['WYETPUS', '198213', 'Not Available', '12',\n",
       "        'Electricity Net Generation From Wind, All Sectors',\n",
       "        'Million Kilowatthours'],\n",
       "       ['WYETPUS', '198313', '2.668', '12',\n",
       "        'Electricity Net Generation From Wind, All Sectors',\n",
       "        'Million Kilowatthours'],\n",
       "       ['WYETPUS', '198413', '6.49', '12',\n",
       "        'Electricity Net Generation From Wind, All Sectors',\n",
       "        'Million Kilowatthours'],\n",
       "       ['WYETPUS', '198513', '5.762', '12',\n",
       "        'Electricity Net Generation From Wind, All Sectors',\n",
       "        'Million Kilowatthours'],\n",
       "       ['WYETPUS', '198613', '4.189', '12',\n",
       "        'Electricity Net Generation From Wind, All Sectors',\n",
       "        'Million Kilowatthours'],\n",
       "       ['WYETPUS', '198713', '3.541', '12',\n",
       "        'Electricity Net Generation From Wind, All Sectors',\n",
       "        'Million Kilowatthours'],\n",
       "       ['WYETPUS', '198813', '0.871', '12',\n",
       "        'Electricity Net Generation From Wind, All Sectors',\n",
       "        'Million Kilowatthours'],\n",
       "       ['WYETPUS', '198913', '2112.043', '12',\n",
       "        'Electricity Net Generation From Wind, All Sectors',\n",
       "        'Million Kilowatthours'],\n",
       "       ['WYETPUS', '199013', '2788.6', '12',\n",
       "        'Electricity Net Generation From Wind, All Sectors',\n",
       "        'Million Kilowatthours'],\n",
       "       ['WYETPUS', '199113', '2950.951', '12',\n",
       "        'Electricity Net Generation From Wind, All Sectors',\n",
       "        'Million Kilowatthours'],\n",
       "       ['WYETPUS', '199213', '2887.523', '12',\n",
       "        'Electricity Net Generation From Wind, All Sectors',\n",
       "        'Million Kilowatthours'],\n",
       "       ['WYETPUS', '199313', '3005.827', '12',\n",
       "        'Electricity Net Generation From Wind, All Sectors',\n",
       "        'Million Kilowatthours'],\n",
       "       ['WYETPUS', '199413', '3447.109', '12',\n",
       "        'Electricity Net Generation From Wind, All Sectors',\n",
       "        'Million Kilowatthours'],\n",
       "       ['WYETPUS', '199513', '3164.253', '12',\n",
       "        'Electricity Net Generation From Wind, All Sectors',\n",
       "        'Million Kilowatthours'],\n",
       "       ['WYETPUS', '199613', '3234.069', '12',\n",
       "        'Electricity Net Generation From Wind, All Sectors',\n",
       "        'Million Kilowatthours'],\n",
       "       ['WYETPUS', '199713', '3288.035', '12',\n",
       "        'Electricity Net Generation From Wind, All Sectors',\n",
       "        'Million Kilowatthours'],\n",
       "       ['WYETPUS', '199813', '3025.696', '12',\n",
       "        'Electricity Net Generation From Wind, All Sectors',\n",
       "        'Million Kilowatthours'],\n",
       "       ['WYETPUS', '199913', '4487.998', '12',\n",
       "        'Electricity Net Generation From Wind, All Sectors',\n",
       "        'Million Kilowatthours'],\n",
       "       ['WYETPUS', '200013', '5593.261', '12',\n",
       "        'Electricity Net Generation From Wind, All Sectors',\n",
       "        'Million Kilowatthours'],\n",
       "       ['WYETPUS', '200113', '6737.331', '12',\n",
       "        'Electricity Net Generation From Wind, All Sectors',\n",
       "        'Million Kilowatthours'],\n",
       "       ['WYETPUS', '200213', '10354.28', '12',\n",
       "        'Electricity Net Generation From Wind, All Sectors',\n",
       "        'Million Kilowatthours'],\n",
       "       ['WYETPUS', '200313', '11187.466', '12',\n",
       "        'Electricity Net Generation From Wind, All Sectors',\n",
       "        'Million Kilowatthours'],\n",
       "       ['WYETPUS', '200413', '14143.741', '12',\n",
       "        'Electricity Net Generation From Wind, All Sectors',\n",
       "        'Million Kilowatthours'],\n",
       "       ['WYETPUS', '200513', '17810.549', '12',\n",
       "        'Electricity Net Generation From Wind, All Sectors',\n",
       "        'Million Kilowatthours'],\n",
       "       ['WYETPUS', '200613', '26589.137', '12',\n",
       "        'Electricity Net Generation From Wind, All Sectors',\n",
       "        'Million Kilowatthours'],\n",
       "       ['WYETPUS', '200713', '34449.927', '12',\n",
       "        'Electricity Net Generation From Wind, All Sectors',\n",
       "        'Million Kilowatthours'],\n",
       "       ['WYETPUS', '200813', '55363.1', '12',\n",
       "        'Electricity Net Generation From Wind, All Sectors',\n",
       "        'Million Kilowatthours'],\n",
       "       ['WYETPUS', '200913', '73886.132', '12',\n",
       "        'Electricity Net Generation From Wind, All Sectors',\n",
       "        'Million Kilowatthours'],\n",
       "       ['WYETPUS', '201013', '94652.246', '12',\n",
       "        'Electricity Net Generation From Wind, All Sectors',\n",
       "        'Million Kilowatthours'],\n",
       "       ['WYETPUS', '201113', '120176.599', '12',\n",
       "        'Electricity Net Generation From Wind, All Sectors',\n",
       "        'Million Kilowatthours'],\n",
       "       ['WYETPUS', '201213', '140821.703', '12',\n",
       "        'Electricity Net Generation From Wind, All Sectors',\n",
       "        'Million Kilowatthours'],\n",
       "       ['WYETPUS', '201313', '167839.745', '12',\n",
       "        'Electricity Net Generation From Wind, All Sectors',\n",
       "        'Million Kilowatthours'],\n",
       "       ['WYETPUS', '201413', '181655.282', '12',\n",
       "        'Electricity Net Generation From Wind, All Sectors',\n",
       "        'Million Kilowatthours'],\n",
       "       ['WYETPUS', '201513', '190718.548', '12',\n",
       "        'Electricity Net Generation From Wind, All Sectors',\n",
       "        'Million Kilowatthours'],\n",
       "       ['WYETPUS', '201613', '226992.562', '12',\n",
       "        'Electricity Net Generation From Wind, All Sectors',\n",
       "        'Million Kilowatthours'],\n",
       "       ['WYETPUS', '201713', '254302.695', '12',\n",
       "        'Electricity Net Generation From Wind, All Sectors',\n",
       "        'Million Kilowatthours'],\n",
       "       ['WYETPUS', '201813', '272667.454', '12',\n",
       "        'Electricity Net Generation From Wind, All Sectors',\n",
       "        'Million Kilowatthours'],\n",
       "       ['WYETPUS', '201913', '295882.484', '12',\n",
       "        'Electricity Net Generation From Wind, All Sectors',\n",
       "        'Million Kilowatthours'],\n",
       "       ['WYETPUS', '202013', '337938.049', '12',\n",
       "        'Electricity Net Generation From Wind, All Sectors',\n",
       "        'Million Kilowatthours'],\n",
       "       ['WYETPUS', '202113', '378196.775', '12',\n",
       "        'Electricity Net Generation From Wind, All Sectors',\n",
       "        'Million Kilowatthours']], dtype='<U80')"
      ]
     },
     "execution_count": 122,
     "metadata": {},
     "output_type": "execute_result"
    }
   ],
   "source": [
    "annual_wind_data"
   ]
  },
  {
   "cell_type": "code",
   "execution_count": 129,
   "id": "d73c9471",
   "metadata": {},
   "outputs": [
    {
     "data": {
      "text/plain": [
       "array(['Not Available', 'Not Available', 'Not Available', 'Not Available',\n",
       "       'Not Available', 'Not Available', 'Not Available', 'Not Available',\n",
       "       'Not Available', 'Not Available', 'Not Available', 'Not Available',\n",
       "       'Not Available', 'Not Available', 'Not Available', 'Not Available',\n",
       "       'Not Available', 'Not Available', 'Not Available', 'Not Available',\n",
       "       'Not Available', 'Not Available', 'Not Available', 'Not Available',\n",
       "       'Not Available', 'Not Available', 'Not Available', 'Not Available',\n",
       "       'Not Available', 'Not Available', 'Not Available', 'Not Available',\n",
       "       'Not Available', 'Not Available', 'Not Available', 'Not Available',\n",
       "       'Not Available', 'Not Available', 'Not Available', 'Not Available',\n",
       "       'Not Available', 'Not Available', 'Not Available', 'Not Available',\n",
       "       'Not Available', 'Not Available', 'Not Available', 'Not Available',\n",
       "       'Not Available', 'Not Available', 'Not Available', 'Not Available',\n",
       "       'Not Available', 'Not Available', 'Not Available', 'Not Available',\n",
       "       'Not Available', 'Not Available', 'Not Available', 'Not Available',\n",
       "       'Not Available', 'Not Available', 'Not Available', 'Not Available',\n",
       "       'Not Available', 'Not Available', 'Not Available', 'Not Available',\n",
       "       'Not Available', 'Not Available', 'Not Available', 'Not Available',\n",
       "       'Not Available', 'Not Available', 'Not Available', 'Not Available',\n",
       "       'Not Available', 'Not Available', 'Not Available', 'Not Available',\n",
       "       'Not Available', 'Not Available', 'Not Available', 'Not Available',\n",
       "       'Not Available', 'Not Available', 'Not Available', 'Not Available',\n",
       "       'Not Available', 'Not Available', 'Not Available', 'Not Available',\n",
       "       'Not Available', 'Not Available', 'Not Available', 'Not Available',\n",
       "       'Not Available', 'Not Available', 'Not Available', 'Not Available',\n",
       "       'Not Available', 'Not Available', 'Not Available', 'Not Available',\n",
       "       'Not Available', 'Not Available', 'Not Available', 'Not Available',\n",
       "       'Not Available', 'Not Available', 'Not Available', 'Not Available',\n",
       "       'Not Available', 'Not Available', 'Not Available', 'Not Available',\n",
       "       'Not Available', 'Not Available', 'Not Available', 'Not Available',\n",
       "       'Not Available', 'Not Available', 'Not Available', 'Not Available',\n",
       "       'Not Available', 'Not Available', 'Not Available', 'Not Available',\n",
       "       'Not Available', 'Not Available', 'Not Available', 'Not Available',\n",
       "       'Not Available', 'Not Available', 'Not Available', 'Not Available',\n",
       "       'Not Available', 'Not Available', 'Not Available', 'Not Available',\n",
       "       'Not Available', 'Not Available', 'Not Available', 'Not Available',\n",
       "       'Not Available', 'Not Available', 'Not Available', 'Not Available',\n",
       "       'Not Available', 'Not Available', 'Not Available', 'Not Available',\n",
       "       'Not Available', 'Not Available', '0.172', '0.018', '0.313',\n",
       "       '0.214', '0.251', '0.212', '0.097', '0.01', '0.378', '0.464',\n",
       "       '0.423', '0.117', '2.668', '0.041', '0.199', '0.184', '0.562',\n",
       "       '0.758', '0.599', '0.468', '0.266', '0.499', '0.87', '0.847',\n",
       "       '1.197', '6.49', '0.635', '1.093', '0.69', '0.581', '0.337',\n",
       "       '0.337', '0.071', '0.363', '0.832', '0.524', '0.194', '0.105',\n",
       "       '5.762', '0.155', '0.169', '0.69', '0.613', '0.74', '0.502',\n",
       "       '0.522', '0.46', '0.069', '0.227', '0.012', '0.03', '4.189',\n",
       "       '0.075', '0.004', '-0.009', '0.146', '0.328', '0.965', '1.226',\n",
       "       '0.232', '0.226', '0.062', '0.063', '0.224', '3.541', '0.642',\n",
       "       '-0.001', '0.03', '0.031', '0.016', '0.013', '-0.004', '0.022',\n",
       "       '0.005', '0.033', '0.031', '0.053', '0.871', '145.754', '223.489',\n",
       "       '255.996', '238.112', '204.252', '156.368', '142.075', '103.095',\n",
       "       '280.158', '175.613', '122.834', '64.296', '2112.043', '301.281',\n",
       "       '231.216', '245.229', '420.392', '350.327', '406.379', '119.111',\n",
       "       '70.065', '91.085', '203.189', '231.216', '119.111', '2788.6',\n",
       "       '62.125', '289.918', '207.084', '238.147', '362.397', '155.313',\n",
       "       '155.313', '227.793', '207.084', '424.523', '424.523', '196.73',\n",
       "       '2950.951', '150.001', '515.629', '328.128', '318.753', '93.751',\n",
       "       '75.001', '75.001', '140.626', '318.753', '243.752', '281.252',\n",
       "       '346.878', '2887.523', '247.393', '49.479', '519.526', '371.09',\n",
       "       '371.09', '86.588', '136.066', '74.218', '136.066', '284.502',\n",
       "       '457.677', '272.132', '3005.827', '0', '100.401', '546.629',\n",
       "       '412.761', '368.138', '368.138', '189.647', '133.868', '312.359',\n",
       "       '356.982', '490.85', '167.335', '3447.109', '5.703', '23.382',\n",
       "       '4.562', '6.843', '408.613', '498.433', '619.905', '545.767',\n",
       "       '572.856', '256.63', '125.179', '96.379', '3164.253', '147.279',\n",
       "       '111.817', '187.533', '244.4', '391.679', '375.705', '535.125',\n",
       "       '415.001', '351.425', '253.026', '98.718', '122.36', '3234.069',\n",
       "       '120.475', '108.923', '148.531', '324.018', '350.423', '517.108',\n",
       "       '509.406', '530.31', '260.204', '274.507', '72.615', '71.515',\n",
       "       '3288.035', '17.395', '8.186', '6.139', '85.951', '143.252',\n",
       "       '394.967', '547.429', '421.571', '475.803', '298.784', '181.112',\n",
       "       '445.106', '3025.696', '337.019', '308.918', '446.692', '373.317',\n",
       "       '275.548', '253.887', '456.059', '382.294', '377.415', '418.591',\n",
       "       '354.192', '504.066', '4487.998', '645.286', '705.904', '350.019',\n",
       "       '330.074', '408.095', '447.007', '379.937', '376.417', '332.42',\n",
       "       '411.419', '823.033', '383.652', '5593.261', '389.25', '431.242',\n",
       "       '532.12', '684.695', '635.029', '669.634', '634.992', '577.206',\n",
       "       '490.229', '606.829', '470.448', '615.657', '6737.331', '811.402',\n",
       "       '713.931', '852.102', '1024.417', '1077.641', '1126.316',\n",
       "       '890.455', '976.691', '735.829', '734.355', '655.947', '755.194',\n",
       "       '10354.28', '632.339', '745.375', '1036.104', '1092.766',\n",
       "       '1006.383', '1047.145', '953.396', '815.429', '895.054', '897.161',\n",
       "       '961.433', '1104.881', '11187.466', '999.445', '1021.569',\n",
       "       '1291.224', '1294.857', '1701.651', '1397.206', '1164.37',\n",
       "       '1050.719', '1089.615', '1028.873', '932.203', '1172.009',\n",
       "       '14143.741', '1131.569', '966.482', '1560.626', '1697.504',\n",
       "       '1746.43', '1796.924', '1420.942', '1138.032', '1468.347',\n",
       "       '1446.19', '1609.691', '1827.814', '17810.549', '2382.633',\n",
       "       '1921.958', '2358.632', '2471.762', '2458.683', '2051.766',\n",
       "       '1955.064', '1655.187', '1879.144', '2442.13', '2540.489',\n",
       "       '2471.69', '26589.137', '2452.315', '2519.793', '3047.092',\n",
       "       '3171.703', '2952.341', '2620.416', '2158.372', '2699.365',\n",
       "       '2866.722', '3376.54', '3095.036', '3490.232', '34449.927',\n",
       "       '4273.185', '3851.749', '4782.02', '5225.282', '5340.284',\n",
       "       '5140.376', '4008.401', '3264.406', '3111.452', '4756.401',\n",
       "       '4993.646', '6615.899', '55363.1', '5950.825', '5852.175',\n",
       "       '7099.063', '7457.696', '6261.961', '5599.422', '4954.941',\n",
       "       '5464.474', '4650.708', '6813.626', '6875.183', '6906.058',\n",
       "       '73886.132', '6854.337', '5431.858', '8589.077', '9764.456',\n",
       "       '8697.525', '8049.021', '6723.891', '6685.855', '7105.502',\n",
       "       '7943.808', '9747.619', '9059.297', '94652.246', '8550.495',\n",
       "       '10451.562', '10544.646', '12421.657', '11772.161', '10985.069',\n",
       "       '7488.629', '7473.594', '6869.029', '10525.429', '12438.553',\n",
       "       '10655.775', '120176.599', '13632.395', '11051.982', '14026.442',\n",
       "       '12709.239', '12540.523', '11972.304', '8821.542', '8468.912',\n",
       "       '8789.666', '12635.641', '11648.59', '14524.467', '140821.703',\n",
       "       '14738.504', '14075.591', '15755.653', '17476.274', '16238.702',\n",
       "       '13748.106', '11093.614', '9633.884', '11674.081', '13635.018',\n",
       "       '15803.26', '13967.059', '167839.745', '17911.214', '14008.66',\n",
       "       '17735.883', '18635.549', '15601.367', '15798.817', '12187.392',\n",
       "       '10170.521', '11519.768', '14507.931', '18866.929', '14711.249',\n",
       "       '181655.282', '15162.146', '14921.545', '15307.929', '17867.149',\n",
       "       '17151.341', '13421.266', '13675.449', '13080.028', '13971.567',\n",
       "       '16380.039', '19681.716', '20098.373', '190718.548', '18466.402',\n",
       "       '20138.228', '21939.409', '20799.303', '18847.899', '16303.441',\n",
       "       '17618.357', '13589.326', '16403.64', '20335.39', '19405.642',\n",
       "       '23145.525', '226992.562', '20798.771', '22091.109', '25730.617',\n",
       "       '25377.943', '23067.639', '20141.747', '16119.996', '13878.848',\n",
       "       '17911.775', '24368.703', '22614.867', '22200.681', '254302.695',\n",
       "       '25598.822', '23189.489', '26463.704', '26430.857', '23953.128',\n",
       "       '24702.856', '16446.574', '19846.437', '18519.671', '21193.898',\n",
       "       '22015.734', '24306.284', '272667.454', '24301.45', '22622.753',\n",
       "       '25772.678', '28915.306', '25779.387', '22445.97', '22100.722',\n",
       "       '19978.031', '24513.468', '27624.519', '25184.359', '26643.84',\n",
       "       '295882.484', '28121.411', '29110.495', '29319.783', '29752.229',\n",
       "       '28377.505', '30212.405', '22866.198', '23029.332', '23185.978',\n",
       "       '28822.663', '33129.405', '32010.645', '337938.049', '30060.471',\n",
       "       '26715.501', '39205.248', '36157.807', '33786.508', '26671.534',\n",
       "       '21715.552', '27071.122', '28997.803', '32215.111', '35751.091',\n",
       "       '39849.028', '378196.775', '38083.974', '37992.489', '43015.752',\n",
       "       '45929.799', '41645.058', '33478.679', '29269.063', '24344.581',\n",
       "       '27024.307', '32824.906', '41971.407'], dtype='<U80')"
      ]
     },
     "execution_count": 129,
     "metadata": {},
     "output_type": "execute_result"
    }
   ],
   "source": [
    "wind_data[:,2]"
   ]
  },
  {
   "cell_type": "code",
   "execution_count": 131,
   "id": "72c3bce0",
   "metadata": {},
   "outputs": [],
   "source": [
    "available_mask = wind_data[:,2] != \"not Available\"\n",
    "    \n",
    "wind_data = wind_data[available_mask]"
   ]
  },
  {
   "cell_type": "code",
   "execution_count": 133,
   "id": "c05e149b",
   "metadata": {},
   "outputs": [
    {
     "data": {
      "text/plain": [
       "array([['WYETPUS', '194913', 'Not Available', '12',\n",
       "        'Electricity Net Generation From Wind, All Sectors',\n",
       "        'Million Kilowatthours'],\n",
       "       ['WYETPUS', '195013', 'Not Available', '12',\n",
       "        'Electricity Net Generation From Wind, All Sectors',\n",
       "        'Million Kilowatthours'],\n",
       "       ['WYETPUS', '195113', 'Not Available', '12',\n",
       "        'Electricity Net Generation From Wind, All Sectors',\n",
       "        'Million Kilowatthours'],\n",
       "       ...,\n",
       "       ['WYETPUS', '202209', '27024.307', '12',\n",
       "        'Electricity Net Generation From Wind, All Sectors',\n",
       "        'Million Kilowatthours'],\n",
       "       ['WYETPUS', '202210', '32824.906', '12',\n",
       "        'Electricity Net Generation From Wind, All Sectors',\n",
       "        'Million Kilowatthours'],\n",
       "       ['WYETPUS', '202211', '41971.407', '12',\n",
       "        'Electricity Net Generation From Wind, All Sectors',\n",
       "        'Million Kilowatthours']], dtype='<U80')"
      ]
     },
     "execution_count": 133,
     "metadata": {},
     "output_type": "execute_result"
    }
   ],
   "source": [
    "wind_data"
   ]
  },
  {
   "cell_type": "markdown",
   "id": "68d3f41c",
   "metadata": {},
   "source": [
    "# Analysis"
   ]
  },
  {
   "cell_type": "code",
   "execution_count": 134,
   "id": "9e170280",
   "metadata": {},
   "outputs": [
    {
     "data": {
      "text/plain": [
       "array([ True,  True,  True,  True,  True,  True,  True,  True,  True,\n",
       "        True,  True,  True,  True,  True,  True,  True,  True,  True,\n",
       "        True,  True,  True,  True,  True,  True, False, False, False,\n",
       "       False, False, False, False, False, False, False, False, False,\n",
       "        True, False, False, False, False, False, False, False, False,\n",
       "       False, False, False, False,  True, False, False, False, False,\n",
       "       False, False, False, False, False, False, False, False,  True,\n",
       "       False, False, False, False, False, False, False, False, False,\n",
       "       False, False, False,  True, False, False, False, False, False,\n",
       "       False, False, False, False, False, False, False,  True, False,\n",
       "       False, False, False, False, False, False, False, False, False,\n",
       "       False, False,  True, False, False, False, False, False, False,\n",
       "       False, False, False, False, False, False,  True, False, False,\n",
       "       False, False, False, False, False, False, False, False, False,\n",
       "       False,  True, False, False, False, False, False, False, False,\n",
       "       False, False, False, False, False,  True, False, False, False,\n",
       "       False, False, False, False, False, False, False, False, False,\n",
       "        True, False, False, False, False, False, False, False, False,\n",
       "       False, False, False, False,  True, False, False, False, False,\n",
       "       False, False, False, False, False, False, False, False,  True,\n",
       "       False, False, False, False, False, False, False, False, False,\n",
       "       False, False, False,  True, False, False, False, False, False,\n",
       "       False, False, False, False, False, False, False,  True, False,\n",
       "       False, False, False, False, False, False, False, False, False,\n",
       "       False, False,  True, False, False, False, False, False, False,\n",
       "       False, False, False, False, False, False,  True, False, False,\n",
       "       False, False, False, False, False, False, False, False, False,\n",
       "       False,  True, False, False, False, False, False, False, False,\n",
       "       False, False, False, False, False,  True, False, False, False,\n",
       "       False, False, False, False, False, False, False, False, False,\n",
       "        True, False, False, False, False, False, False, False, False,\n",
       "       False, False, False, False,  True, False, False, False, False,\n",
       "       False, False, False, False, False, False, False, False,  True,\n",
       "       False, False, False, False, False, False, False, False, False,\n",
       "       False, False, False,  True, False, False, False, False, False,\n",
       "       False, False, False, False, False, False, False,  True, False,\n",
       "       False, False, False, False, False, False, False, False, False,\n",
       "       False, False,  True, False, False, False, False, False, False,\n",
       "       False, False, False, False, False, False,  True, False, False,\n",
       "       False, False, False, False, False, False, False, False, False,\n",
       "       False,  True, False, False, False, False, False, False, False,\n",
       "       False, False, False, False, False,  True, False, False, False,\n",
       "       False, False, False, False, False, False, False, False, False,\n",
       "        True, False, False, False, False, False, False, False, False,\n",
       "       False, False, False, False,  True, False, False, False, False,\n",
       "       False, False, False, False, False, False, False, False,  True,\n",
       "       False, False, False, False, False, False, False, False, False,\n",
       "       False, False, False,  True, False, False, False, False, False,\n",
       "       False, False, False, False, False, False, False,  True, False,\n",
       "       False, False, False, False, False, False, False, False, False,\n",
       "       False, False,  True, False, False, False, False, False, False,\n",
       "       False, False, False, False, False, False,  True, False, False,\n",
       "       False, False, False, False, False, False, False, False, False,\n",
       "       False,  True, False, False, False, False, False, False, False,\n",
       "       False, False, False, False, False,  True, False, False, False,\n",
       "       False, False, False, False, False, False, False, False, False,\n",
       "        True, False, False, False, False, False, False, False, False,\n",
       "       False, False, False, False,  True, False, False, False, False,\n",
       "       False, False, False, False, False, False, False, False,  True,\n",
       "       False, False, False, False, False, False, False, False, False,\n",
       "       False, False, False,  True, False, False, False, False, False,\n",
       "       False, False, False, False, False, False, False,  True, False,\n",
       "       False, False, False, False, False, False, False, False, False,\n",
       "       False, False,  True, False, False, False, False, False, False,\n",
       "       False, False, False, False, False, False,  True, False, False,\n",
       "       False, False, False, False, False, False, False, False, False,\n",
       "       False,  True, False, False, False, False, False, False, False,\n",
       "       False, False, False, False, False,  True, False, False, False,\n",
       "       False, False, False, False, False, False, False, False, False,\n",
       "        True, False, False, False, False, False, False, False, False,\n",
       "       False, False, False, False,  True, False, False, False, False,\n",
       "       False, False, False, False, False, False, False, False,  True,\n",
       "       False, False, False, False, False, False, False, False, False,\n",
       "       False, False, False,  True, False, False, False, False, False,\n",
       "       False, False, False, False, False, False])"
      ]
     },
     "execution_count": 134,
     "metadata": {},
     "output_type": "execute_result"
    }
   ],
   "source": [
    "np.array([x[-2:] == '13' for x in wind_data[:,1]] )"
   ]
  },
  {
   "cell_type": "code",
   "execution_count": 140,
   "id": "ab366870",
   "metadata": {},
   "outputs": [],
   "source": [
    "available_mask = wind_data[:,2] != \"not Available\"\n",
    "    \n",
    "wind_data = wind_data[available_mask]"
   ]
  },
  {
   "cell_type": "code",
   "execution_count": 138,
   "id": "4cfd4f27",
   "metadata": {},
   "outputs": [
    {
     "data": {
      "text/plain": [
       "array([['WYETPUS', '194913', 'Not Available', '12',\n",
       "        'Electricity Net Generation From Wind, All Sectors',\n",
       "        'Million Kilowatthours'],\n",
       "       ['WYETPUS', '195013', 'Not Available', '12',\n",
       "        'Electricity Net Generation From Wind, All Sectors',\n",
       "        'Million Kilowatthours'],\n",
       "       ['WYETPUS', '195113', 'Not Available', '12',\n",
       "        'Electricity Net Generation From Wind, All Sectors',\n",
       "        'Million Kilowatthours'],\n",
       "       ...,\n",
       "       ['WYETPUS', '202209', '27024.307', '12',\n",
       "        'Electricity Net Generation From Wind, All Sectors',\n",
       "        'Million Kilowatthours'],\n",
       "       ['WYETPUS', '202210', '32824.906', '12',\n",
       "        'Electricity Net Generation From Wind, All Sectors',\n",
       "        'Million Kilowatthours'],\n",
       "       ['WYETPUS', '202211', '41971.407', '12',\n",
       "        'Electricity Net Generation From Wind, All Sectors',\n",
       "        'Million Kilowatthours']], dtype='<U80')"
      ]
     },
     "execution_count": 138,
     "metadata": {},
     "output_type": "execute_result"
    }
   ],
   "source": [
    "wind_data"
   ]
  },
  {
   "cell_type": "markdown",
   "id": "8f1abd84",
   "metadata": {},
   "source": [
    "# 1. Total Energy Generated"
   ]
  },
  {
   "cell_type": "code",
   "execution_count": 141,
   "id": "8dd15df8",
   "metadata": {},
   "outputs": [
    {
     "ename": "ValueError",
     "evalue": "could not convert string to float: 'Not Available'",
     "output_type": "error",
     "traceback": [
      "\u001b[1;31m---------------------------------------------------------------------------\u001b[0m",
      "\u001b[1;31mValueError\u001b[0m                                Traceback (most recent call last)",
      "Input \u001b[1;32mIn [141]\u001b[0m, in \u001b[0;36m<cell line: 1>\u001b[1;34m()\u001b[0m\n\u001b[1;32m----> 1\u001b[0m all_energy \u001b[38;5;241m=\u001b[39m \u001b[43mannual_wind_data\u001b[49m\u001b[43m[\u001b[49m\u001b[43m:\u001b[49m\u001b[43m,\u001b[49m\u001b[38;5;241;43m2\u001b[39;49m\u001b[43m]\u001b[49m\u001b[38;5;241;43m.\u001b[39;49m\u001b[43mastype\u001b[49m\u001b[43m(\u001b[49m\u001b[38;5;28;43mfloat\u001b[39;49m\u001b[43m)\u001b[49m\n",
      "\u001b[1;31mValueError\u001b[0m: could not convert string to float: 'Not Available'"
     ]
    }
   ],
   "source": [
    "all_energy = annual_wind_data[:,2].astype(float)"
   ]
  },
  {
   "cell_type": "code",
   "execution_count": 136,
   "id": "42278dc5",
   "metadata": {},
   "outputs": [
    {
     "ename": "NameError",
     "evalue": "name 'all_energy' is not defined",
     "output_type": "error",
     "traceback": [
      "\u001b[1;31m---------------------------------------------------------------------------\u001b[0m",
      "\u001b[1;31mNameError\u001b[0m                                 Traceback (most recent call last)",
      "Input \u001b[1;32mIn [136]\u001b[0m, in \u001b[0;36m<cell line: 1>\u001b[1;34m()\u001b[0m\n\u001b[1;32m----> 1\u001b[0m \u001b[38;5;28mprint\u001b[39m(\u001b[38;5;124m\"\u001b[39m\u001b[38;5;124mThe total wind energy generated in USA is :\u001b[39m\u001b[38;5;132;01m{}\u001b[39;00m\u001b[38;5;124m killowatt per Hours\u001b[39m\u001b[38;5;124m\"\u001b[39m\u001b[38;5;241m.\u001b[39mformat(\u001b[43mall_energy\u001b[49m\u001b[38;5;241m.\u001b[39msum()))\n",
      "\u001b[1;31mNameError\u001b[0m: name 'all_energy' is not defined"
     ]
    }
   ],
   "source": [
    "print(\"The total wind energy generated in USA is :{} killowatt per Hours\".format(all_energy.sum()))"
   ]
  },
  {
   "cell_type": "code",
   "execution_count": null,
   "id": "740cd075",
   "metadata": {},
   "outputs": [],
   "source": []
  },
  {
   "cell_type": "markdown",
   "id": "f30fd10b",
   "metadata": {},
   "source": [
    "# 2. The Mean  Energy Generated"
   ]
  },
  {
   "cell_type": "code",
   "execution_count": 86,
   "id": "7640fd34",
   "metadata": {},
   "outputs": [
    {
     "ename": "NameError",
     "evalue": "name 'all_energy' is not defined",
     "output_type": "error",
     "traceback": [
      "\u001b[1;31m---------------------------------------------------------------------------\u001b[0m",
      "\u001b[1;31mNameError\u001b[0m                                 Traceback (most recent call last)",
      "Input \u001b[1;32mIn [86]\u001b[0m, in \u001b[0;36m<cell line: 1>\u001b[1;34m()\u001b[0m\n\u001b[1;32m----> 1\u001b[0m \u001b[43mall_energy\u001b[49m\u001b[38;5;241m.\u001b[39mmean()\n",
      "\u001b[1;31mNameError\u001b[0m: name 'all_energy' is not defined"
     ]
    }
   ],
   "source": [
    "all_energy.mean()"
   ]
  },
  {
   "cell_type": "markdown",
   "id": "ee34a35a",
   "metadata": {},
   "source": [
    "# The Standard Deviation of Energy Generated"
   ]
  },
  {
   "cell_type": "code",
   "execution_count": 9,
   "id": "7182dbba",
   "metadata": {},
   "outputs": [
    {
     "ename": "NameError",
     "evalue": "name 'all_energy' is not defined",
     "output_type": "error",
     "traceback": [
      "\u001b[1;31m---------------------------------------------------------------------------\u001b[0m",
      "\u001b[1;31mNameError\u001b[0m                                 Traceback (most recent call last)",
      "Input \u001b[1;32mIn [9]\u001b[0m, in \u001b[0;36m<cell line: 1>\u001b[1;34m()\u001b[0m\n\u001b[1;32m----> 1\u001b[0m \u001b[43mall_energy\u001b[49m\u001b[38;5;241m.\u001b[39mstd()\n",
      "\u001b[1;31mNameError\u001b[0m: name 'all_energy' is not defined"
     ]
    }
   ],
   "source": [
    "all_energy.std()"
   ]
  },
  {
   "cell_type": "code",
   "execution_count": 14,
   "id": "9d2c03e1",
   "metadata": {},
   "outputs": [
    {
     "ename": "NameError",
     "evalue": "name 'wind_data' is not defined",
     "output_type": "error",
     "traceback": [
      "\u001b[1;31m---------------------------------------------------------------------------\u001b[0m",
      "\u001b[1;31mNameError\u001b[0m                                 Traceback (most recent call last)",
      "Input \u001b[1;32mIn [14]\u001b[0m, in \u001b[0;36m<cell line: 1>\u001b[1;34m()\u001b[0m\n\u001b[1;32m----> 1\u001b[0m x \u001b[38;5;241m=\u001b[39m \u001b[43mwind_data\u001b[49m[:,\u001b[38;5;241m1\u001b[39m]\n\u001b[0;32m      2\u001b[0m y \u001b[38;5;241m=\u001b[39m wind_data[:,\u001b[38;5;241m2\u001b[39m]\n",
      "\u001b[1;31mNameError\u001b[0m: name 'wind_data' is not defined"
     ]
    }
   ],
   "source": [
    "x = wind_data[:,1]\n",
    "y = wind_data[:,2] # year"
   ]
  },
  {
   "cell_type": "code",
   "execution_count": 13,
   "id": "dcfc675f",
   "metadata": {},
   "outputs": [
    {
     "ename": "NameError",
     "evalue": "name 'x' is not defined",
     "output_type": "error",
     "traceback": [
      "\u001b[1;31m---------------------------------------------------------------------------\u001b[0m",
      "\u001b[1;31mNameError\u001b[0m                                 Traceback (most recent call last)",
      "Input \u001b[1;32mIn [13]\u001b[0m, in \u001b[0;36m<cell line: 1>\u001b[1;34m()\u001b[0m\n\u001b[1;32m----> 1\u001b[0m plt\u001b[38;5;241m.\u001b[39mplot(\u001b[43mx\u001b[49m,y)\n\u001b[0;32m      2\u001b[0m plt\u001b[38;5;241m.\u001b[39mxlabel(\u001b[38;5;124m\"\u001b[39m\u001b[38;5;124mEnergy Generated\u001b[39m\u001b[38;5;124m\"\u001b[39m)\n\u001b[0;32m      3\u001b[0m plt\u001b[38;5;241m.\u001b[39mylabel(\u001b[38;5;124m\"\u001b[39m\u001b[38;5;124mDate\u001b[39m\u001b[38;5;124m\"\u001b[39m)\n",
      "\u001b[1;31mNameError\u001b[0m: name 'x' is not defined"
     ]
    }
   ],
   "source": [
    "plt.plot(x,y)\n",
    "plt.xlabel(\"Energy Generated\")\n",
    "plt.ylabel(\"Date\")\n",
    "plt.show()"
   ]
  },
  {
   "cell_type": "code",
   "execution_count": null,
   "id": "3c254737",
   "metadata": {},
   "outputs": [],
   "source": []
  }
 ],
 "metadata": {
  "kernelspec": {
   "display_name": "Python 3 (ipykernel)",
   "language": "python",
   "name": "python3"
  },
  "language_info": {
   "codemirror_mode": {
    "name": "ipython",
    "version": 3
   },
   "file_extension": ".py",
   "mimetype": "text/x-python",
   "name": "python",
   "nbconvert_exporter": "python",
   "pygments_lexer": "ipython3",
   "version": "3.9.12"
  }
 },
 "nbformat": 4,
 "nbformat_minor": 5
}
